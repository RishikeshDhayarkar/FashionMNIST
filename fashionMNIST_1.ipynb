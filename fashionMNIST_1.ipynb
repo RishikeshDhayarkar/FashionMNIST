{
  "nbformat": 4,
  "nbformat_minor": 0,
  "metadata": {
    "colab": {
      "name": "fashionMNIST_1.ipynb",
      "provenance": []
    },
    "kernelspec": {
      "name": "python3",
      "display_name": "Python 3"
    },
    "accelerator": "GPU"
  },
  "cells": [
    {
      "cell_type": "code",
      "metadata": {
        "id": "ic2qlJXwfPtM",
        "colab_type": "code",
        "colab": {}
      },
      "source": [
        "import torch \n",
        "import torch.nn as nn \n",
        "import torch.nn.functional as F\n",
        "import torchvision\n",
        "import torchvision.transforms as transforms\n",
        "import numpy as np\n",
        "import matplotlib.pyplot as plt\n",
        "import torch.optim as optim"
      ],
      "execution_count": 0,
      "outputs": []
    },
    {
      "cell_type": "code",
      "metadata": {
        "id": "56QSt5cHfxIK",
        "colab_type": "code",
        "colab": {}
      },
      "source": [
        "train_set = torchvision.datasets.FashionMNIST(root='./data/FashionMNIST',\n",
        "                                              train=True, #we want the data for training set\n",
        "                                              download=True, # download data if its not specifies in the root\n",
        "                                              transform=transforms.Compose([transforms.ToTensor()])) # transform the training set into pytorch tensors"
      ],
      "execution_count": 0,
      "outputs": []
    },
    {
      "cell_type": "code",
      "metadata": {
        "id": "lCiTTtc7hiRf",
        "colab_type": "code",
        "colab": {}
      },
      "source": [
        "train_loader = torch.utils.data.DataLoader(train_set, batch_size=100)"
      ],
      "execution_count": 0,
      "outputs": []
    },
    {
      "cell_type": "code",
      "metadata": {
        "id": "3MCSNWttlWzf",
        "colab_type": "code",
        "colab": {
          "base_uri": "https://localhost:8080/",
          "height": 34
        },
        "outputId": "c5e55e92-7088-4e90-e790-4942e38379c3"
      },
      "source": [
        "len(train_set)"
      ],
      "execution_count": 360,
      "outputs": [
        {
          "output_type": "execute_result",
          "data": {
            "text/plain": [
              "60000"
            ]
          },
          "metadata": {
            "tags": []
          },
          "execution_count": 360
        }
      ]
    },
    {
      "cell_type": "code",
      "metadata": {
        "id": "ckLDRCIglbHI",
        "colab_type": "code",
        "colab": {
          "base_uri": "https://localhost:8080/",
          "height": 67
        },
        "outputId": "74457a1d-21af-4867-9da1-1993d42f3b0d"
      },
      "source": [
        "train_set.train_labels"
      ],
      "execution_count": 361,
      "outputs": [
        {
          "output_type": "stream",
          "text": [
            "/usr/local/lib/python3.6/dist-packages/torchvision/datasets/mnist.py:43: UserWarning: train_labels has been renamed targets\n",
            "  warnings.warn(\"train_labels has been renamed targets\")\n"
          ],
          "name": "stderr"
        },
        {
          "output_type": "execute_result",
          "data": {
            "text/plain": [
              "tensor([9, 0, 0,  ..., 3, 0, 5])"
            ]
          },
          "metadata": {
            "tags": []
          },
          "execution_count": 361
        }
      ]
    },
    {
      "cell_type": "code",
      "metadata": {
        "id": "UAoqQ_MclgUr",
        "colab_type": "code",
        "colab": {
          "base_uri": "https://localhost:8080/",
          "height": 67
        },
        "outputId": "4e5d2104-6b68-4071-bb3d-f44d571c3bb4"
      },
      "source": [
        "train_set.train_labels.bincount()"
      ],
      "execution_count": 362,
      "outputs": [
        {
          "output_type": "stream",
          "text": [
            "/usr/local/lib/python3.6/dist-packages/torchvision/datasets/mnist.py:43: UserWarning: train_labels has been renamed targets\n",
            "  warnings.warn(\"train_labels has been renamed targets\")\n"
          ],
          "name": "stderr"
        },
        {
          "output_type": "execute_result",
          "data": {
            "text/plain": [
              "tensor([6000, 6000, 6000, 6000, 6000, 6000, 6000, 6000, 6000, 6000])"
            ]
          },
          "metadata": {
            "tags": []
          },
          "execution_count": 362
        }
      ]
    },
    {
      "cell_type": "code",
      "metadata": {
        "id": "sBbcMZpMl5uG",
        "colab_type": "code",
        "colab": {}
      },
      "source": [
        "sample = next(iter(train_set))"
      ],
      "execution_count": 0,
      "outputs": []
    },
    {
      "cell_type": "code",
      "metadata": {
        "id": "P7eys3nZmP9E",
        "colab_type": "code",
        "colab": {
          "base_uri": "https://localhost:8080/",
          "height": 34
        },
        "outputId": "3e1e9a99-4ecd-4761-c0b5-77630ac41fd9"
      },
      "source": [
        "len(sample)"
      ],
      "execution_count": 364,
      "outputs": [
        {
          "output_type": "execute_result",
          "data": {
            "text/plain": [
              "2"
            ]
          },
          "metadata": {
            "tags": []
          },
          "execution_count": 364
        }
      ]
    },
    {
      "cell_type": "code",
      "metadata": {
        "id": "Q2FmGmHhmUcr",
        "colab_type": "code",
        "colab": {
          "base_uri": "https://localhost:8080/",
          "height": 34
        },
        "outputId": "511bb6a4-0b4e-427b-c6eb-11fa9a3e2114"
      },
      "source": [
        "type(sample)"
      ],
      "execution_count": 365,
      "outputs": [
        {
          "output_type": "execute_result",
          "data": {
            "text/plain": [
              "tuple"
            ]
          },
          "metadata": {
            "tags": []
          },
          "execution_count": 365
        }
      ]
    },
    {
      "cell_type": "code",
      "metadata": {
        "id": "NNIz2pJVmb3-",
        "colab_type": "code",
        "colab": {}
      },
      "source": [
        "image, label = sample"
      ],
      "execution_count": 0,
      "outputs": []
    },
    {
      "cell_type": "code",
      "metadata": {
        "id": "jfxhR202muTL",
        "colab_type": "code",
        "colab": {
          "base_uri": "https://localhost:8080/",
          "height": 282
        },
        "outputId": "29f1c0e3-c55a-4b92-c3a9-8f28713f57f4"
      },
      "source": [
        "plt.imshow(image.squeeze(), cmap='gray')\n",
        "label"
      ],
      "execution_count": 367,
      "outputs": [
        {
          "output_type": "execute_result",
          "data": {
            "text/plain": [
              "9"
            ]
          },
          "metadata": {
            "tags": []
          },
          "execution_count": 367
        },
        {
          "output_type": "display_data",
          "data": {
            "image/png": "[encoded data removed]",
            "text/plain": [
              "<Figure size 432x288 with 1 Axes>"
            ]
          },
          "metadata": {
            "tags": []
          }
        }
      ]
    },
    {
      "cell_type": "code",
      "metadata": {
        "id": "UFI4mAb1m30E",
        "colab_type": "code",
        "colab": {}
      },
      "source": [
        "batch = next(iter(train_loader))"
      ],
      "execution_count": 0,
      "outputs": []
    },
    {
      "cell_type": "code",
      "metadata": {
        "id": "a8YfCpywnl0M",
        "colab_type": "code",
        "colab": {
          "base_uri": "https://localhost:8080/",
          "height": 34
        },
        "outputId": "7708f7ee-cc16-496d-999d-03fa75ff858e"
      },
      "source": [
        "len(batch)"
      ],
      "execution_count": 369,
      "outputs": [
        {
          "output_type": "execute_result",
          "data": {
            "text/plain": [
              "2"
            ]
          },
          "metadata": {
            "tags": []
          },
          "execution_count": 369
        }
      ]
    },
    {
      "cell_type": "code",
      "metadata": {
        "id": "MSiCMVMOnnr6",
        "colab_type": "code",
        "colab": {
          "base_uri": "https://localhost:8080/",
          "height": 34
        },
        "outputId": "758b3ee9-451e-43b9-ba5d-b5c1eaf81ced"
      },
      "source": [
        "type(batch)"
      ],
      "execution_count": 370,
      "outputs": [
        {
          "output_type": "execute_result",
          "data": {
            "text/plain": [
              "list"
            ]
          },
          "metadata": {
            "tags": []
          },
          "execution_count": 370
        }
      ]
    },
    {
      "cell_type": "code",
      "metadata": {
        "id": "MaDuVmINnrvc",
        "colab_type": "code",
        "colab": {}
      },
      "source": [
        "images, labels = batch"
      ],
      "execution_count": 0,
      "outputs": []
    },
    {
      "cell_type": "code",
      "metadata": {
        "id": "8NshS1qqnzW8",
        "colab_type": "code",
        "colab": {
          "base_uri": "https://localhost:8080/",
          "height": 34
        },
        "outputId": "6e102046-f911-4074-ec5e-ea90b6dcacad"
      },
      "source": [
        "images.shape"
      ],
      "execution_count": 372,
      "outputs": [
        {
          "output_type": "execute_result",
          "data": {
            "text/plain": [
              "torch.Size([100, 1, 28, 28])"
            ]
          },
          "metadata": {
            "tags": []
          },
          "execution_count": 372
        }
      ]
    },
    {
      "cell_type": "code",
      "metadata": {
        "id": "eaPPFM3an7DC",
        "colab_type": "code",
        "colab": {
          "base_uri": "https://localhost:8080/",
          "height": 34
        },
        "outputId": "f42aa049-5de5-497b-ec40-80df70d2e76c"
      },
      "source": [
        "labels.shape"
      ],
      "execution_count": 373,
      "outputs": [
        {
          "output_type": "execute_result",
          "data": {
            "text/plain": [
              "torch.Size([100])"
            ]
          },
          "metadata": {
            "tags": []
          },
          "execution_count": 373
        }
      ]
    },
    {
      "cell_type": "code",
      "metadata": {
        "id": "QMvkHmUZovMd",
        "colab_type": "code",
        "colab": {
          "base_uri": "https://localhost:8080/",
          "height": 1000
        },
        "outputId": "d88308b4-2a5f-4d24-8f62-1d79a62347ae"
      },
      "source": [
        "grid = torchvision.utils.make_grid(images, nrow=10)\n",
        "plt.figure(figsize=(20,20))\n",
        "plt.imshow(np.transpose(grid, (1,2,0)))\n",
        "labels"
      ],
      "execution_count": 374,
      "outputs": [
        {
          "output_type": "execute_result",
          "data": {
            "text/plain": [
              "tensor([9, 0, 0, 3, 0, 2, 7, 2, 5, 5, 0, 9, 5, 5, 7, 9, 1, 0, 6, 4, 3, 1, 4, 8,\n",
              "        4, 3, 0, 2, 4, 4, 5, 3, 6, 6, 0, 8, 5, 2, 1, 6, 6, 7, 9, 5, 9, 2, 7, 3,\n",
              "        0, 3, 3, 3, 7, 2, 2, 6, 6, 8, 3, 3, 5, 0, 5, 5, 0, 2, 0, 0, 4, 1, 3, 1,\n",
              "        6, 3, 1, 4, 4, 6, 1, 9, 1, 3, 5, 7, 9, 7, 1, 7, 9, 9, 9, 3, 2, 9, 3, 6,\n",
              "        4, 1, 1, 8])"
            ]
          },
          "metadata": {
            "tags": []
          },
          "execution_count": 374
        },
        {
          "output_type": "display_data",
          "data": {
            "image/png": "[encoded data removed]",
            "text/plain": [
              "<Figure size 1440x1440 with 1 Axes>"
            ]
          },
          "metadata": {
            "tags": []
          }
        }
      ]
    },
    {
      "cell_type": "markdown",
      "metadata": {
        "id": "qmevF1s6AiY6",
        "colab_type": "text"
      },
      "source": [
        "pytorch's nn library gives us the tools to construct layers of an NN. Each layer has tranformation and weights.\n",
        "\n",
        "  Here according to OOPS- a transformation will be a method(code) and\n",
        "                                weights will be attributes(data)\n",
        "\n",
        " The class Module is the base class for all NN modules. So, all the layers and NN(a bunch of layers) inherit the features of 'Module' class"
      ]
    },
    {
      "cell_type": "code",
      "metadata": {
        "id": "hvQN1BC6wdhV",
        "colab_type": "code",
        "colab": {}
      },
      "source": [
        "class Network(nn.Module):\n",
        "  def __init__(self):\n",
        "    super(Network, self).__init__()\n",
        "    self.conv1 = nn.Conv2d(in_channels=1, out_channels=6, kernel_size=5)\n",
        "    self.conv2 = nn.Conv2d(in_channels=6, out_channels=12, kernel_size=5)\n",
        "\n",
        "    self.fc1 = nn.Linear(in_features=12*4*4, out_features=120)\n",
        "    self.fc2 = nn.Linear(in_features=120, out_features=60)\n",
        "    self.out = nn.Linear(in_features=60, out_features=10)\n",
        "\n",
        "  def forward(self, t):\n",
        "    # (1) Input layer\n",
        "    t=t\n",
        "\n",
        "    # (2) Hidden conv layer\n",
        "    t=self.conv1(t)\n",
        "    t=F.relu(t)\n",
        "    t=F.max_pool2d(t, kernel_size=2, stride=2)\n",
        "\n",
        "    # (3) Hidden conv layer\n",
        "    t=self.conv2(t)\n",
        "    t=F.relu(t)\n",
        "    t=F.max_pool2d(t, kernel_size=2, stride=2)\n",
        "\n",
        "    # (4) Hidden Linear layer\n",
        "    t=t.reshape(-1, 12*4*4)\n",
        "    t=self.fc1(t)\n",
        "    t=F.relu(t)\n",
        "\n",
        "    # (5) Hidden Linear layer\n",
        "    t=self.fc2(t)\n",
        "    t=F.relu(t)\n",
        "\n",
        "    # (6) Output layer\n",
        "    t=self.out(t)\n",
        "    \n",
        "    return t"
      ],
      "execution_count": 0,
      "outputs": []
    },
    {
      "cell_type": "code",
      "metadata": {
        "id": "I2dk8k2A3v9a",
        "colab_type": "code",
        "colab": {}
      },
      "source": [
        "network = Network()"
      ],
      "execution_count": 0,
      "outputs": []
    },
    {
      "cell_type": "code",
      "metadata": {
        "id": "5eu8Ic-sD7pv",
        "colab_type": "code",
        "colab": {
          "base_uri": "https://localhost:8080/",
          "height": 185
        },
        "outputId": "af115e8e-eaa0-456d-b92a-937e698ace65"
      },
      "source": [
        "for name, param in network.named_parameters():\n",
        "  print(name, '\\t\\t', param.shape)"
      ],
      "execution_count": 377,
      "outputs": [
        {
          "output_type": "stream",
          "text": [
            "conv1.weight \t\t torch.Size([6, 1, 5, 5])\n",
            "conv1.bias \t\t torch.Size([6])\n",
            "conv2.weight \t\t torch.Size([12, 6, 5, 5])\n",
            "conv2.bias \t\t torch.Size([12])\n",
            "fc1.weight \t\t torch.Size([120, 192])\n",
            "fc1.bias \t\t torch.Size([120])\n",
            "fc2.weight \t\t torch.Size([60, 120])\n",
            "fc2.bias \t\t torch.Size([60])\n",
            "out.weight \t\t torch.Size([10, 60])\n",
            "out.bias \t\t torch.Size([10])\n"
          ],
          "name": "stdout"
        }
      ]
    },
    {
      "cell_type": "code",
      "metadata": {
        "id": "noYnH4zXEFgX",
        "colab_type": "code",
        "colab": {
          "base_uri": "https://localhost:8080/",
          "height": 34
        },
        "outputId": "ff3fb94f-7e22-46c1-a040-562f9c38fcb0"
      },
      "source": [
        "torch.set_grad_enabled(True)"
      ],
      "execution_count": 378,
      "outputs": [
        {
          "output_type": "execute_result",
          "data": {
            "text/plain": [
              "<torch.autograd.grad_mode.set_grad_enabled at 0x7f23977249b0>"
            ]
          },
          "metadata": {
            "tags": []
          },
          "execution_count": 378
        }
      ]
    },
    {
      "cell_type": "code",
      "metadata": {
        "id": "OMgaieLMF-iK",
        "colab_type": "code",
        "colab": {
          "base_uri": "https://localhost:8080/",
          "height": 34
        },
        "outputId": "75fce9b4-f425-4eae-a8b2-452b5746dc10"
      },
      "source": [
        "image.shape"
      ],
      "execution_count": 379,
      "outputs": [
        {
          "output_type": "execute_result",
          "data": {
            "text/plain": [
              "torch.Size([1, 28, 28])"
            ]
          },
          "metadata": {
            "tags": []
          },
          "execution_count": 379
        }
      ]
    },
    {
      "cell_type": "code",
      "metadata": {
        "id": "Ru6eQa-0GIM8",
        "colab_type": "code",
        "colab": {
          "base_uri": "https://localhost:8080/",
          "height": 34
        },
        "outputId": "0ddbab0e-5640-4612-ff1b-d929c33244cb"
      },
      "source": [
        "image.unsqueeze(0).shape"
      ],
      "execution_count": 380,
      "outputs": [
        {
          "output_type": "execute_result",
          "data": {
            "text/plain": [
              "torch.Size([1, 1, 28, 28])"
            ]
          },
          "metadata": {
            "tags": []
          },
          "execution_count": 380
        }
      ]
    },
    {
      "cell_type": "code",
      "metadata": {
        "id": "0KXHf0oAGOui",
        "colab_type": "code",
        "colab": {}
      },
      "source": [
        "pred = network(image.unsqueeze(0))"
      ],
      "execution_count": 0,
      "outputs": []
    },
    {
      "cell_type": "code",
      "metadata": {
        "id": "9l6IIsS7Gd0Y",
        "colab_type": "code",
        "colab": {
          "base_uri": "https://localhost:8080/",
          "height": 34
        },
        "outputId": "290f59d2-c1a8-41dc-b207-ebc121710cc6"
      },
      "source": [
        "pred.shape"
      ],
      "execution_count": 382,
      "outputs": [
        {
          "output_type": "execute_result",
          "data": {
            "text/plain": [
              "torch.Size([1, 10])"
            ]
          },
          "metadata": {
            "tags": []
          },
          "execution_count": 382
        }
      ]
    },
    {
      "cell_type": "code",
      "metadata": {
        "id": "RZbuMHlxGfY8",
        "colab_type": "code",
        "colab": {
          "base_uri": "https://localhost:8080/",
          "height": 50
        },
        "outputId": "aea93292-8435-4eeb-bcfe-2af64718c4eb"
      },
      "source": [
        "pred"
      ],
      "execution_count": 383,
      "outputs": [
        {
          "output_type": "execute_result",
          "data": {
            "text/plain": [
              "tensor([[ 0.0600,  0.0306,  0.1291,  0.0470,  0.0291, -0.1243,  0.1202,  0.1796,\n",
              "         -0.0860,  0.0468]], grad_fn=<AddmmBackward>)"
            ]
          },
          "metadata": {
            "tags": []
          },
          "execution_count": 383
        }
      ]
    },
    {
      "cell_type": "code",
      "metadata": {
        "id": "FR68ji_QGhoH",
        "colab_type": "code",
        "colab": {
          "base_uri": "https://localhost:8080/",
          "height": 34
        },
        "outputId": "1aa58697-aabc-4bbe-d71e-ef909d16dbba"
      },
      "source": [
        "pred.argmax(dim=1)"
      ],
      "execution_count": 384,
      "outputs": [
        {
          "output_type": "execute_result",
          "data": {
            "text/plain": [
              "tensor([7])"
            ]
          },
          "metadata": {
            "tags": []
          },
          "execution_count": 384
        }
      ]
    },
    {
      "cell_type": "code",
      "metadata": {
        "id": "PVhhy3ZBGrLc",
        "colab_type": "code",
        "colab": {
          "base_uri": "https://localhost:8080/",
          "height": 50
        },
        "outputId": "25d45dfe-ca7f-49bc-eadf-74933cdba957"
      },
      "source": [
        "F.softmax(pred, dim=1)"
      ],
      "execution_count": 385,
      "outputs": [
        {
          "output_type": "execute_result",
          "data": {
            "text/plain": [
              "tensor([[0.1013, 0.0984, 0.1086, 0.1000, 0.0982, 0.0843, 0.1076, 0.1142, 0.0875,\n",
              "         0.1000]], grad_fn=<SoftmaxBackward>)"
            ]
          },
          "metadata": {
            "tags": []
          },
          "execution_count": 385
        }
      ]
    },
    {
      "cell_type": "code",
      "metadata": {
        "id": "pGIuaBliG5K_",
        "colab_type": "code",
        "colab": {
          "base_uri": "https://localhost:8080/",
          "height": 34
        },
        "outputId": "71aa2fb5-5f41-477d-d67f-943fe5d713bb"
      },
      "source": [
        "F.softmax(pred, dim=1).argmax(dim=1)"
      ],
      "execution_count": 386,
      "outputs": [
        {
          "output_type": "execute_result",
          "data": {
            "text/plain": [
              "tensor([7])"
            ]
          },
          "metadata": {
            "tags": []
          },
          "execution_count": 386
        }
      ]
    },
    {
      "cell_type": "code",
      "metadata": {
        "id": "t7ak7SPMHFgw",
        "colab_type": "code",
        "colab": {}
      },
      "source": [
        "preds = network(images)"
      ],
      "execution_count": 0,
      "outputs": []
    },
    {
      "cell_type": "code",
      "metadata": {
        "id": "J0c2rqRSHo5k",
        "colab_type": "code",
        "colab": {
          "base_uri": "https://localhost:8080/",
          "height": 34
        },
        "outputId": "3a0bda50-5edf-4506-ac69-36524cee0ebe"
      },
      "source": [
        "preds.shape"
      ],
      "execution_count": 388,
      "outputs": [
        {
          "output_type": "execute_result",
          "data": {
            "text/plain": [
              "torch.Size([100, 10])"
            ]
          },
          "metadata": {
            "tags": []
          },
          "execution_count": 388
        }
      ]
    },
    {
      "cell_type": "code",
      "metadata": {
        "id": "TtX_hjUEHqsC",
        "colab_type": "code",
        "colab": {
          "base_uri": "https://localhost:8080/",
          "height": 1000
        },
        "outputId": "b193772d-2a16-40e9-b0df-d7b39a3baa0e"
      },
      "source": [
        "preds # Batch size = 10 with 10 prediction classes "
      ],
      "execution_count": 389,
      "outputs": [
        {
          "output_type": "execute_result",
          "data": {
            "text/plain": [
              "tensor([[ 0.0600,  0.0306,  0.1291,  0.0470,  0.0291, -0.1243,  0.1202,  0.1796,\n",
              "         -0.0860,  0.0468],\n",
              "        [ 0.0707,  0.0228,  0.1288,  0.0576,  0.0249, -0.1251,  0.1277,  0.1835,\n",
              "         -0.0789,  0.0409],\n",
              "        [ 0.0570,  0.0372,  0.1151,  0.0649,  0.0347, -0.1028,  0.1150,  0.1704,\n",
              "         -0.0800,  0.0462],\n",
              "        [ 0.0602,  0.0313,  0.1222,  0.0642,  0.0276, -0.1113,  0.1189,  0.1764,\n",
              "         -0.0823,  0.0479],\n",
              "        [ 0.0647,  0.0188,  0.1275,  0.0614,  0.0235, -0.1204,  0.1226,  0.1832,\n",
              "         -0.0860,  0.0479],\n",
              "        [ 0.0643,  0.0278,  0.1325,  0.0596,  0.0227, -0.1248,  0.1285,  0.1824,\n",
              "         -0.0809,  0.0454],\n",
              "        [ 0.0653,  0.0374,  0.1219,  0.0549,  0.0254, -0.1084,  0.1255,  0.1734,\n",
              "         -0.0877,  0.0535],\n",
              "        [ 0.0608,  0.0262,  0.1373,  0.0561,  0.0240, -0.1328,  0.1283,  0.1867,\n",
              "         -0.0743,  0.0427],\n",
              "        [ 0.0502,  0.0429,  0.1155,  0.0624,  0.0404, -0.1072,  0.1108,  0.1632,\n",
              "         -0.0836,  0.0486],\n",
              "        [ 0.0466,  0.0401,  0.1251,  0.0630,  0.0378, -0.1202,  0.1101,  0.1710,\n",
              "         -0.0808,  0.0471],\n",
              "        [ 0.0613,  0.0251,  0.1276,  0.0635,  0.0247, -0.1152,  0.1212,  0.1807,\n",
              "         -0.0838,  0.0485],\n",
              "        [ 0.0574,  0.0279,  0.1326,  0.0500,  0.0297, -0.1284,  0.1199,  0.1866,\n",
              "         -0.0830,  0.0455],\n",
              "        [ 0.0606,  0.0403,  0.1255,  0.0570,  0.0261, -0.1136,  0.1181,  0.1760,\n",
              "         -0.0861,  0.0511],\n",
              "        [ 0.0529,  0.0439,  0.1219,  0.0630,  0.0271, -0.1065,  0.1170,  0.1718,\n",
              "         -0.0872,  0.0507],\n",
              "        [ 0.0632,  0.0429,  0.1171,  0.0573,  0.0228, -0.1022,  0.1259,  0.1673,\n",
              "         -0.0883,  0.0529],\n",
              "        [ 0.0597,  0.0337,  0.1313,  0.0492,  0.0260, -0.1218,  0.1176,  0.1805,\n",
              "         -0.0889,  0.0463],\n",
              "        [ 0.0641,  0.0282,  0.1265,  0.0538,  0.0329, -0.1209,  0.1224,  0.1811,\n",
              "         -0.0779,  0.0425],\n",
              "        [ 0.0660,  0.0242,  0.1274,  0.0623,  0.0214, -0.1179,  0.1251,  0.1823,\n",
              "         -0.0828,  0.0495],\n",
              "        [ 0.0583,  0.0317,  0.1311,  0.0605,  0.0221, -0.1213,  0.1266,  0.1795,\n",
              "         -0.0810,  0.0476],\n",
              "        [ 0.0579,  0.0370,  0.1217,  0.0649,  0.0315, -0.1084,  0.1153,  0.1762,\n",
              "         -0.0803,  0.0452],\n",
              "        [ 0.0697,  0.0265,  0.1237,  0.0575,  0.0251, -0.1180,  0.1242,  0.1816,\n",
              "         -0.0818,  0.0481],\n",
              "        [ 0.0657,  0.0231,  0.1262,  0.0585,  0.0243, -0.1157,  0.1261,  0.1823,\n",
              "         -0.0816,  0.0487],\n",
              "        [ 0.0616,  0.0253,  0.1323,  0.0572,  0.0228, -0.1213,  0.1242,  0.1836,\n",
              "         -0.0804,  0.0489],\n",
              "        [ 0.0634,  0.0301,  0.1324,  0.0544,  0.0215, -0.1232,  0.1250,  0.1793,\n",
              "         -0.0815,  0.0479],\n",
              "        [ 0.0638,  0.0243,  0.1339,  0.0587,  0.0212, -0.1243,  0.1292,  0.1849,\n",
              "         -0.0806,  0.0468],\n",
              "        [ 0.0670,  0.0289,  0.1300,  0.0595,  0.0186, -0.1224,  0.1302,  0.1838,\n",
              "         -0.0825,  0.0486],\n",
              "        [ 0.0610,  0.0260,  0.1335,  0.0624,  0.0174, -0.1234,  0.1262,  0.1827,\n",
              "         -0.0830,  0.0486],\n",
              "        [ 0.0618,  0.0240,  0.1356,  0.0543,  0.0256, -0.1334,  0.1271,  0.1850,\n",
              "         -0.0766,  0.0415],\n",
              "        [ 0.0618,  0.0313,  0.1262,  0.0655,  0.0256, -0.1168,  0.1230,  0.1804,\n",
              "         -0.0803,  0.0484],\n",
              "        [ 0.0639,  0.0278,  0.1331,  0.0561,  0.0240, -0.1274,  0.1271,  0.1824,\n",
              "         -0.0767,  0.0455],\n",
              "        [ 0.0579,  0.0387,  0.1222,  0.0598,  0.0240, -0.1015,  0.1228,  0.1729,\n",
              "         -0.0899,  0.0494],\n",
              "        [ 0.0591,  0.0309,  0.1228,  0.0620,  0.0254, -0.1075,  0.1196,  0.1739,\n",
              "         -0.0867,  0.0491],\n",
              "        [ 0.0668,  0.0247,  0.1356,  0.0569,  0.0203, -0.1304,  0.1298,  0.1850,\n",
              "         -0.0780,  0.0466],\n",
              "        [ 0.0531,  0.0399,  0.1112,  0.0654,  0.0324, -0.0991,  0.1117,  0.1675,\n",
              "         -0.0868,  0.0481],\n",
              "        [ 0.0544,  0.0381,  0.1147,  0.0654,  0.0327, -0.1002,  0.1126,  0.1719,\n",
              "         -0.0830,  0.0480],\n",
              "        [ 0.0541,  0.0347,  0.1297,  0.0564,  0.0287, -0.1085,  0.1181,  0.1781,\n",
              "         -0.0831,  0.0508],\n",
              "        [ 0.0496,  0.0358,  0.1147,  0.0590,  0.0393, -0.1103,  0.1111,  0.1702,\n",
              "         -0.0822,  0.0495],\n",
              "        [ 0.0580,  0.0368,  0.1218,  0.0670,  0.0260, -0.1091,  0.1211,  0.1714,\n",
              "         -0.0852,  0.0503],\n",
              "        [ 0.0667,  0.0193,  0.1317,  0.0523,  0.0299, -0.1210,  0.1231,  0.1884,\n",
              "         -0.0760,  0.0392],\n",
              "        [ 0.0609,  0.0237,  0.1363,  0.0574,  0.0225, -0.1306,  0.1274,  0.1857,\n",
              "         -0.0777,  0.0445],\n",
              "        [ 0.0625,  0.0271,  0.1332,  0.0587,  0.0213, -0.1247,  0.1315,  0.1831,\n",
              "         -0.0821,  0.0466],\n",
              "        [ 0.0651,  0.0391,  0.1212,  0.0541,  0.0300, -0.1120,  0.1210,  0.1735,\n",
              "         -0.0875,  0.0488],\n",
              "        [ 0.0651,  0.0328,  0.1271,  0.0464,  0.0296, -0.1220,  0.1202,  0.1784,\n",
              "         -0.0861,  0.0467],\n",
              "        [ 0.0578,  0.0352,  0.1267,  0.0523,  0.0276, -0.1133,  0.1210,  0.1743,\n",
              "         -0.0879,  0.0511],\n",
              "        [ 0.0620,  0.0361,  0.1298,  0.0507,  0.0288, -0.1327,  0.1244,  0.1822,\n",
              "         -0.0779,  0.0503],\n",
              "        [ 0.0590,  0.0311,  0.1288,  0.0656,  0.0220, -0.1172,  0.1241,  0.1786,\n",
              "         -0.0834,  0.0505],\n",
              "        [ 0.0614,  0.0342,  0.1249,  0.0509,  0.0287, -0.1105,  0.1276,  0.1759,\n",
              "         -0.0891,  0.0497],\n",
              "        [ 0.0680,  0.0244,  0.1276,  0.0650,  0.0194, -0.1182,  0.1260,  0.1818,\n",
              "         -0.0870,  0.0495],\n",
              "        [ 0.0681,  0.0245,  0.1294,  0.0576,  0.0233, -0.1211,  0.1242,  0.1813,\n",
              "         -0.0805,  0.0462],\n",
              "        [ 0.0676,  0.0287,  0.1272,  0.0594,  0.0272, -0.1264,  0.1249,  0.1867,\n",
              "         -0.0760,  0.0449],\n",
              "        [ 0.0698,  0.0283,  0.1214,  0.0582,  0.0290, -0.1180,  0.1267,  0.1821,\n",
              "         -0.0800,  0.0446],\n",
              "        [ 0.0655,  0.0264,  0.1233,  0.0580,  0.0257, -0.1148,  0.1229,  0.1801,\n",
              "         -0.0852,  0.0462],\n",
              "        [ 0.0670,  0.0364,  0.1229,  0.0551,  0.0260, -0.1097,  0.1247,  0.1761,\n",
              "         -0.0882,  0.0522],\n",
              "        [ 0.0636,  0.0261,  0.1353,  0.0559,  0.0243, -0.1340,  0.1303,  0.1858,\n",
              "         -0.0752,  0.0451],\n",
              "        [ 0.0557,  0.0375,  0.1188,  0.0669,  0.0292, -0.1039,  0.1151,  0.1699,\n",
              "         -0.0861,  0.0486],\n",
              "        [ 0.0616,  0.0247,  0.1298,  0.0606,  0.0232, -0.1210,  0.1217,  0.1814,\n",
              "         -0.0809,  0.0478],\n",
              "        [ 0.0722,  0.0247,  0.1280,  0.0565,  0.0171, -0.1162,  0.1314,  0.1849,\n",
              "         -0.0783,  0.0475],\n",
              "        [ 0.0630,  0.0272,  0.1325,  0.0534,  0.0212, -0.1136,  0.1245,  0.1796,\n",
              "         -0.0873,  0.0462],\n",
              "        [ 0.0678,  0.0247,  0.1233,  0.0554,  0.0254, -0.1174,  0.1263,  0.1822,\n",
              "         -0.0830,  0.0459],\n",
              "        [ 0.0625,  0.0301,  0.1241,  0.0563,  0.0264, -0.1134,  0.1206,  0.1788,\n",
              "         -0.0818,  0.0472],\n",
              "        [ 0.0490,  0.0287,  0.1355,  0.0542,  0.0377, -0.1244,  0.1142,  0.1822,\n",
              "         -0.0803,  0.0427],\n",
              "        [ 0.0608,  0.0236,  0.1321,  0.0613,  0.0237, -0.1191,  0.1204,  0.1836,\n",
              "         -0.0835,  0.0465],\n",
              "        [ 0.0551,  0.0424,  0.1202,  0.0644,  0.0288, -0.1022,  0.1154,  0.1727,\n",
              "         -0.0900,  0.0492],\n",
              "        [ 0.0548,  0.0447,  0.1190,  0.0629,  0.0251, -0.1009,  0.1182,  0.1686,\n",
              "         -0.0887,  0.0522],\n",
              "        [ 0.0645,  0.0259,  0.1290,  0.0588,  0.0250, -0.1221,  0.1235,  0.1811,\n",
              "         -0.0822,  0.0502],\n",
              "        [ 0.0629,  0.0302,  0.1289,  0.0614,  0.0216, -0.1205,  0.1270,  0.1798,\n",
              "         -0.0791,  0.0488],\n",
              "        [ 0.0660,  0.0236,  0.1282,  0.0625,  0.0228, -0.1198,  0.1261,  0.1827,\n",
              "         -0.0816,  0.0497],\n",
              "        [ 0.0607,  0.0247,  0.1294,  0.0591,  0.0184, -0.1159,  0.1248,  0.1795,\n",
              "         -0.0913,  0.0501],\n",
              "        [ 0.0611,  0.0328,  0.1296,  0.0616,  0.0244, -0.1225,  0.1242,  0.1804,\n",
              "         -0.0806,  0.0483],\n",
              "        [ 0.0647,  0.0278,  0.1256,  0.0548,  0.0296, -0.1149,  0.1216,  0.1801,\n",
              "         -0.0786,  0.0461],\n",
              "        [ 0.0689,  0.0230,  0.1310,  0.0520,  0.0261, -0.1296,  0.1262,  0.1856,\n",
              "         -0.0764,  0.0463],\n",
              "        [ 0.0671,  0.0247,  0.1274,  0.0579,  0.0262, -0.1173,  0.1217,  0.1835,\n",
              "         -0.0798,  0.0435],\n",
              "        [ 0.0628,  0.0273,  0.1276,  0.0629,  0.0209, -0.1113,  0.1213,  0.1791,\n",
              "         -0.0867,  0.0493],\n",
              "        [ 0.0664,  0.0228,  0.1251,  0.0556,  0.0284, -0.1197,  0.1212,  0.1830,\n",
              "         -0.0849,  0.0457],\n",
              "        [ 0.0648,  0.0256,  0.1293,  0.0526,  0.0296, -0.1192,  0.1207,  0.1840,\n",
              "         -0.0772,  0.0426],\n",
              "        [ 0.0677,  0.0202,  0.1321,  0.0570,  0.0200, -0.1222,  0.1262,  0.1861,\n",
              "         -0.0805,  0.0438],\n",
              "        [ 0.0671,  0.0251,  0.1292,  0.0548,  0.0246, -0.1223,  0.1261,  0.1820,\n",
              "         -0.0818,  0.0437],\n",
              "        [ 0.0630,  0.0274,  0.1288,  0.0602,  0.0214, -0.1187,  0.1272,  0.1795,\n",
              "         -0.0822,  0.0479],\n",
              "        [ 0.0629,  0.0290,  0.1266,  0.0561,  0.0278, -0.1141,  0.1216,  0.1793,\n",
              "         -0.0810,  0.0440],\n",
              "        [ 0.0621,  0.0314,  0.1292,  0.0517,  0.0254, -0.1225,  0.1233,  0.1780,\n",
              "         -0.0854,  0.0471],\n",
              "        [ 0.0693,  0.0240,  0.1274,  0.0529,  0.0271, -0.1165,  0.1265,  0.1859,\n",
              "         -0.0754,  0.0438],\n",
              "        [ 0.0590,  0.0366,  0.1163,  0.0642,  0.0294, -0.1046,  0.1173,  0.1709,\n",
              "         -0.0841,  0.0496],\n",
              "        [ 0.0506,  0.0361,  0.1299,  0.0625,  0.0309, -0.1159,  0.1098,  0.1709,\n",
              "         -0.0847,  0.0462],\n",
              "        [ 0.0671,  0.0348,  0.1249,  0.0522,  0.0218, -0.1117,  0.1300,  0.1760,\n",
              "         -0.0880,  0.0509],\n",
              "        [ 0.0610,  0.0320,  0.1257,  0.0483,  0.0353, -0.1237,  0.1159,  0.1775,\n",
              "         -0.0811,  0.0457],\n",
              "        [ 0.0616,  0.0358,  0.1224,  0.0541,  0.0271, -0.1099,  0.1239,  0.1723,\n",
              "         -0.0890,  0.0488],\n",
              "        [ 0.0690,  0.0279,  0.1249,  0.0558,  0.0275, -0.1163,  0.1253,  0.1826,\n",
              "         -0.0760,  0.0450],\n",
              "        [ 0.0628,  0.0402,  0.1202,  0.0581,  0.0283, -0.1062,  0.1242,  0.1718,\n",
              "         -0.0858,  0.0525],\n",
              "        [ 0.0561,  0.0343,  0.1297,  0.0504,  0.0344, -0.1262,  0.1183,  0.1782,\n",
              "         -0.0809,  0.0423],\n",
              "        [ 0.0603,  0.0373,  0.1243,  0.0530,  0.0321, -0.1165,  0.1159,  0.1752,\n",
              "         -0.0889,  0.0489],\n",
              "        [ 0.0531,  0.0420,  0.1183,  0.0577,  0.0415, -0.1140,  0.1078,  0.1714,\n",
              "         -0.0822,  0.0475],\n",
              "        [ 0.0613,  0.0315,  0.1229,  0.0588,  0.0224, -0.1104,  0.1201,  0.1741,\n",
              "         -0.0856,  0.0521],\n",
              "        [ 0.0623,  0.0385,  0.1220,  0.0619,  0.0200, -0.1055,  0.1229,  0.1725,\n",
              "         -0.0854,  0.0535],\n",
              "        [ 0.0618,  0.0355,  0.1248,  0.0498,  0.0307, -0.1198,  0.1179,  0.1782,\n",
              "         -0.0863,  0.0483],\n",
              "        [ 0.0665,  0.0247,  0.1283,  0.0593,  0.0217, -0.1156,  0.1254,  0.1792,\n",
              "         -0.0838,  0.0426],\n",
              "        [ 0.0581,  0.0309,  0.1296,  0.0668,  0.0217, -0.1170,  0.1218,  0.1784,\n",
              "         -0.0848,  0.0506],\n",
              "        [ 0.0566,  0.0401,  0.1144,  0.0661,  0.0356, -0.1037,  0.1141,  0.1695,\n",
              "         -0.0798,  0.0446],\n",
              "        [ 0.0657,  0.0233,  0.1291,  0.0461,  0.0297, -0.1192,  0.1225,  0.1843,\n",
              "         -0.0733,  0.0361],\n",
              "        [ 0.0674,  0.0279,  0.1246,  0.0574,  0.0241, -0.1156,  0.1247,  0.1798,\n",
              "         -0.0793,  0.0463],\n",
              "        [ 0.0604,  0.0311,  0.1330,  0.0610,  0.0212, -0.1148,  0.1228,  0.1775,\n",
              "         -0.0897,  0.0506]], grad_fn=<AddmmBackward>)"
            ]
          },
          "metadata": {
            "tags": []
          },
          "execution_count": 389
        }
      ]
    },
    {
      "cell_type": "code",
      "metadata": {
        "id": "k2KWgCNVHsJm",
        "colab_type": "code",
        "colab": {
          "base_uri": "https://localhost:8080/",
          "height": 101
        },
        "outputId": "ef5fb34e-5479-457d-8ffc-904bb2e86b4e"
      },
      "source": [
        "preds.argmax(dim=1)"
      ],
      "execution_count": 390,
      "outputs": [
        {
          "output_type": "execute_result",
          "data": {
            "text/plain": [
              "tensor([7, 7, 7, 7, 7, 7, 7, 7, 7, 7, 7, 7, 7, 7, 7, 7, 7, 7, 7, 7, 7, 7, 7, 7,\n",
              "        7, 7, 7, 7, 7, 7, 7, 7, 7, 7, 7, 7, 7, 7, 7, 7, 7, 7, 7, 7, 7, 7, 7, 7,\n",
              "        7, 7, 7, 7, 7, 7, 7, 7, 7, 7, 7, 7, 7, 7, 7, 7, 7, 7, 7, 7, 7, 7, 7, 7,\n",
              "        7, 7, 7, 7, 7, 7, 7, 7, 7, 7, 7, 7, 7, 7, 7, 7, 7, 7, 7, 7, 7, 7, 7, 7,\n",
              "        7, 7, 7, 7])"
            ]
          },
          "metadata": {
            "tags": []
          },
          "execution_count": 390
        }
      ]
    },
    {
      "cell_type": "code",
      "metadata": {
        "id": "-ysGjNxPIaEI",
        "colab_type": "code",
        "colab": {
          "base_uri": "https://localhost:8080/",
          "height": 101
        },
        "outputId": "fb1d4cd2-4b43-4cd1-abdf-ab91c966aa82"
      },
      "source": [
        "labels"
      ],
      "execution_count": 391,
      "outputs": [
        {
          "output_type": "execute_result",
          "data": {
            "text/plain": [
              "tensor([9, 0, 0, 3, 0, 2, 7, 2, 5, 5, 0, 9, 5, 5, 7, 9, 1, 0, 6, 4, 3, 1, 4, 8,\n",
              "        4, 3, 0, 2, 4, 4, 5, 3, 6, 6, 0, 8, 5, 2, 1, 6, 6, 7, 9, 5, 9, 2, 7, 3,\n",
              "        0, 3, 3, 3, 7, 2, 2, 6, 6, 8, 3, 3, 5, 0, 5, 5, 0, 2, 0, 0, 4, 1, 3, 1,\n",
              "        6, 3, 1, 4, 4, 6, 1, 9, 1, 3, 5, 7, 9, 7, 1, 7, 9, 9, 9, 3, 2, 9, 3, 6,\n",
              "        4, 1, 1, 8])"
            ]
          },
          "metadata": {
            "tags": []
          },
          "execution_count": 391
        }
      ]
    },
    {
      "cell_type": "code",
      "metadata": {
        "id": "28fZAbaOIqbN",
        "colab_type": "code",
        "colab": {
          "base_uri": "https://localhost:8080/",
          "height": 34
        },
        "outputId": "fc6ca9cd-4f0a-47ea-c469-46cc0e6300c8"
      },
      "source": [
        "preds.argmax(dim=1).eq(labels).sum()"
      ],
      "execution_count": 392,
      "outputs": [
        {
          "output_type": "execute_result",
          "data": {
            "text/plain": [
              "tensor(8)"
            ]
          },
          "metadata": {
            "tags": []
          },
          "execution_count": 392
        }
      ]
    },
    {
      "cell_type": "code",
      "metadata": {
        "id": "MnnglEbBLtXA",
        "colab_type": "code",
        "colab": {}
      },
      "source": [
        "def get_num_correct(preds, labels):\n",
        "  return preds.argmax(dim=1).eq(labels).sum().item()"
      ],
      "execution_count": 0,
      "outputs": []
    },
    {
      "cell_type": "code",
      "metadata": {
        "id": "qOPMzbnTMJkB",
        "colab_type": "code",
        "colab": {
          "base_uri": "https://localhost:8080/",
          "height": 34
        },
        "outputId": "c39dddeb-2437-44b2-e1ba-a3ae5600cc61"
      },
      "source": [
        "get_num_correct(preds, labels)"
      ],
      "execution_count": 394,
      "outputs": [
        {
          "output_type": "execute_result",
          "data": {
            "text/plain": [
              "8"
            ]
          },
          "metadata": {
            "tags": []
          },
          "execution_count": 394
        }
      ]
    },
    {
      "cell_type": "code",
      "metadata": {
        "id": "MvB_erc9MMM_",
        "colab_type": "code",
        "colab": {
          "base_uri": "https://localhost:8080/",
          "height": 34
        },
        "outputId": "0a7d4b8e-eded-48c1-912a-2762a12c3912"
      },
      "source": [
        "loss = F.cross_entropy(preds, labels)\n",
        "loss.item()"
      ],
      "execution_count": 395,
      "outputs": [
        {
          "output_type": "execute_result",
          "data": {
            "text/plain": [
              "2.30240535736084"
            ]
          },
          "metadata": {
            "tags": []
          },
          "execution_count": 395
        }
      ]
    },
    {
      "cell_type": "code",
      "metadata": {
        "id": "R8DUmcmeNSjO",
        "colab_type": "code",
        "colab": {
          "base_uri": "https://localhost:8080/",
          "height": 34
        },
        "outputId": "79f46ad8-1090-4d57-de47-ed30883c54be"
      },
      "source": [
        "print(network.conv1.weight.grad) # Because we havent back propagated yet. The gradients will be generated once we backpropagate."
      ],
      "execution_count": 396,
      "outputs": [
        {
          "output_type": "stream",
          "text": [
            "None\n"
          ],
          "name": "stdout"
        }
      ]
    },
    {
      "cell_type": "code",
      "metadata": {
        "id": "WO-rGpGSNh42",
        "colab_type": "code",
        "colab": {}
      },
      "source": [
        "loss.backward() # Calculating the gradients"
      ],
      "execution_count": 0,
      "outputs": []
    },
    {
      "cell_type": "code",
      "metadata": {
        "id": "UAob-1MxNvvZ",
        "colab_type": "code",
        "colab": {
          "base_uri": "https://localhost:8080/",
          "height": 34
        },
        "outputId": "694421d8-0d2c-45e1-bdf2-2731ee4bf026"
      },
      "source": [
        "network.conv1.weight.grad.shape"
      ],
      "execution_count": 398,
      "outputs": [
        {
          "output_type": "execute_result",
          "data": {
            "text/plain": [
              "torch.Size([6, 1, 5, 5])"
            ]
          },
          "metadata": {
            "tags": []
          },
          "execution_count": 398
        }
      ]
    },
    {
      "cell_type": "code",
      "metadata": {
        "id": "tvw-ImZzObC3",
        "colab_type": "code",
        "colab": {
          "base_uri": "https://localhost:8080/",
          "height": 34
        },
        "outputId": "d1bd83b5-bd31-4d83-930d-22a7f1ecae2a"
      },
      "source": [
        "network.conv1.weight.shape"
      ],
      "execution_count": 399,
      "outputs": [
        {
          "output_type": "execute_result",
          "data": {
            "text/plain": [
              "torch.Size([6, 1, 5, 5])"
            ]
          },
          "metadata": {
            "tags": []
          },
          "execution_count": 399
        }
      ]
    },
    {
      "cell_type": "code",
      "metadata": {
        "id": "Nb8gyXJ-OgzS",
        "colab_type": "code",
        "colab": {
          "base_uri": "https://localhost:8080/",
          "height": 34
        },
        "outputId": "2179997e-8c70-4d3d-905c-e92ef0503bdd"
      },
      "source": [
        "network.conv2.weight.grad.shape"
      ],
      "execution_count": 400,
      "outputs": [
        {
          "output_type": "execute_result",
          "data": {
            "text/plain": [
              "torch.Size([12, 6, 5, 5])"
            ]
          },
          "metadata": {
            "tags": []
          },
          "execution_count": 400
        }
      ]
    },
    {
      "cell_type": "code",
      "metadata": {
        "id": "4DSx8v6vOgXT",
        "colab_type": "code",
        "colab": {
          "base_uri": "https://localhost:8080/",
          "height": 34
        },
        "outputId": "6bc69a21-dccd-4432-a058-5a7c559ef659"
      },
      "source": [
        "network.conv2.weight.shape"
      ],
      "execution_count": 401,
      "outputs": [
        {
          "output_type": "execute_result",
          "data": {
            "text/plain": [
              "torch.Size([12, 6, 5, 5])"
            ]
          },
          "metadata": {
            "tags": []
          },
          "execution_count": 401
        }
      ]
    },
    {
      "cell_type": "markdown",
      "metadata": {
        "id": "cO2ocJYoN8TU",
        "colab_type": "text"
      },
      "source": [
        "The shape of the gradient tensor of a layer is same as that of weights tensor of that particular layer. To adjust every single weight value we need a unique gradient for each weight.  "
      ]
    },
    {
      "cell_type": "code",
      "metadata": {
        "id": "8Hvh3c9wN3p0",
        "colab_type": "code",
        "colab": {}
      },
      "source": [
        "optimizer = optim.Adam(network.parameters(), lr=0.01) # Creating an optimizer "
      ],
      "execution_count": 0,
      "outputs": []
    },
    {
      "cell_type": "code",
      "metadata": {
        "id": "vuT_4gxVPWYB",
        "colab_type": "code",
        "colab": {
          "base_uri": "https://localhost:8080/",
          "height": 34
        },
        "outputId": "393a9ce9-75c2-41d2-cf56-8855066036ca"
      },
      "source": [
        "loss.item()"
      ],
      "execution_count": 403,
      "outputs": [
        {
          "output_type": "execute_result",
          "data": {
            "text/plain": [
              "2.30240535736084"
            ]
          },
          "metadata": {
            "tags": []
          },
          "execution_count": 403
        }
      ]
    },
    {
      "cell_type": "code",
      "metadata": {
        "id": "dVlxY0jKPaIN",
        "colab_type": "code",
        "colab": {}
      },
      "source": [
        "optimizer.step() # Updating the weights"
      ],
      "execution_count": 0,
      "outputs": []
    },
    {
      "cell_type": "code",
      "metadata": {
        "id": "EjT7_GLFPf3k",
        "colab_type": "code",
        "colab": {}
      },
      "source": [
        "preds = network(images)\n",
        "loss = F.cross_entropy(preds, labels)"
      ],
      "execution_count": 0,
      "outputs": []
    },
    {
      "cell_type": "code",
      "metadata": {
        "id": "CS5gDCkvP1bK",
        "colab_type": "code",
        "colab": {
          "base_uri": "https://localhost:8080/",
          "height": 34
        },
        "outputId": "5159fa0f-0d45-4722-9284-1eec1f551911"
      },
      "source": [
        "loss.item()"
      ],
      "execution_count": 406,
      "outputs": [
        {
          "output_type": "execute_result",
          "data": {
            "text/plain": [
              "2.2829368114471436"
            ]
          },
          "metadata": {
            "tags": []
          },
          "execution_count": 406
        }
      ]
    },
    {
      "cell_type": "markdown",
      "metadata": {
        "id": "1G786n7dP5dX",
        "colab_type": "text"
      },
      "source": [
        "The loss value got reduced from 2.321 to 2.304. This because the weights got modified."
      ]
    },
    {
      "cell_type": "code",
      "metadata": {
        "id": "C4BzY3sxP3ze",
        "colab_type": "code",
        "colab": {
          "base_uri": "https://localhost:8080/",
          "height": 34
        },
        "outputId": "f448250d-099c-4669-cf2d-5f14c63b688d"
      },
      "source": [
        "get_num_correct(preds, labels)"
      ],
      "execution_count": 407,
      "outputs": [
        {
          "output_type": "execute_result",
          "data": {
            "text/plain": [
              "15"
            ]
          },
          "metadata": {
            "tags": []
          },
          "execution_count": 407
        }
      ]
    },
    {
      "cell_type": "markdown",
      "metadata": {
        "id": "EjxePfdLQjcr",
        "colab_type": "text"
      },
      "source": [
        "Number of correct predictions increased from 8 to 15"
      ]
    },
    {
      "cell_type": "code",
      "metadata": {
        "id": "D4U5fcGAQO3H",
        "colab_type": "code",
        "colab": {}
      },
      "source": [
        ""
      ],
      "execution_count": 0,
      "outputs": []
    }
  ]
}